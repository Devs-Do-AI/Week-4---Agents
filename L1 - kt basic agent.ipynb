{
 "cells": [
  {
   "cell_type": "code",
   "execution_count": null,
   "metadata": {},
   "outputs": [],
   "source": [
    "import os\n",
    "\n",
    "from dotenv import load_dotenv, find_dotenv\n",
    "\n",
    "load_dotenv(find_dotenv())"
   ]
  },
  {
   "cell_type": "code",
   "execution_count": null,
   "metadata": {},
   "outputs": [],
   "source": [
    "from utils import get_google_api_client\n",
    "\n",
    "google_api_client = get_google_api_client()"
   ]
  },
  {
   "cell_type": "code",
   "execution_count": null,
   "metadata": {},
   "outputs": [],
   "source": [
    "from googleapiclient.discovery import build\n",
    "from langchain.agents import Tool\n",
    "import json, os\n",
    "\n",
    "\n",
    "def get_latest_video_id(channel_id):\n",
    "    youtube = build(\n",
    "        serviceName=\"youtube\",\n",
    "        version=\"v3\",\n",
    "        developerKey=os.getenv(\"GOOGLE_API_KEY\"),\n",
    "    )\n",
    "    request = youtube.search().list(\n",
    "        part=\"snippet\",\n",
    "        channelId=channel_id,\n",
    "        order=\"date\",\n",
    "        maxResults=1,\n",
    "    )\n",
    "\n",
    "    response = request.execute()\n",
    "\n",
    "    print(f\"\\nRepsonse: {json.dumps(obj=response, indent=4)}\")  # DEBUG\n",
    "\n",
    "    latest_video = response[\"items\"][0]\n",
    "    video_id = latest_video[\"id\"][\"videoId\"]\n",
    "    # video_id = \"ghDaTYbmC9o\"  # TODO(dnh): temporary hack\n",
    "    video_title = latest_video[\"snippet\"][\"title\"]\n",
    "\n",
    "    return video_id, video_title\n",
    "\n",
    "\n",
    "get_latest_video_tool = Tool(\n",
    "    name=\"Get Latest YouTube Video\",\n",
    "    func=get_latest_video_id,\n",
    "    description=\"Fetches the ID and title of the latest video on a YouTube channel specified by a YouTube channel ID.\",\n",
    ")"
   ]
  },
  {
   "cell_type": "code",
   "execution_count": null,
   "metadata": {},
   "outputs": [],
   "source": [
    "from youtube_transcript_api import YouTubeTranscriptApi\n",
    "\n",
    "\n",
    "# TODO(dnh): Try RAG for this instead so we don't have to stuff large transcripts into context window\n",
    "def get_video_transcript(video_id, max_length=4000):\n",
    "    transcript_list = YouTubeTranscriptApi.list_transcripts(video_id)\n",
    "    transcript = transcript_list.find_transcript([\"en\"]).fetch()\n",
    "\n",
    "    total_length = sum(segment[\"duration\"] for segment in transcript)\n",
    "    middle_time = total_length / 2\n",
    "\n",
    "    condensed_transcript = \"\"\n",
    "    for segment in transcript:\n",
    "        if segment[\"start\"] >= middle_time:\n",
    "            text = segment[\"text\"]\n",
    "            if len(condensed_transcript) + len(text) <= max_length:\n",
    "                condensed_transcript += \" \" + text\n",
    "            else:\n",
    "                break\n",
    "\n",
    "    return condensed_transcript.strip()\n",
    "\n",
    "\n",
    "get_transcript_tool = Tool(\n",
    "    name=\"Get YouTube Channel Transcript by Video ID\",\n",
    "    func=get_video_transcript,\n",
    "    description=\"Retrieves the transcript of a given YouTube video from the video id.\",\n",
    ")"
   ]
  },
  {
   "cell_type": "code",
   "execution_count": null,
   "metadata": {},
   "outputs": [],
   "source": [
    "tools = [\n",
    "    get_latest_video_tool,\n",
    "    get_transcript_tool,\n",
    "]"
   ]
  },
  {
   "cell_type": "code",
   "execution_count": null,
   "metadata": {},
   "outputs": [],
   "source": [
    "from langchain_openai import OpenAI\n",
    "\n",
    "# Initialize LLM\n",
    "llm = OpenAI(api_key=os.getenv(\"OPENAI_API_KEY\"), temperature=0.7)"
   ]
  },
  {
   "cell_type": "code",
   "execution_count": null,
   "metadata": {},
   "outputs": [],
   "source": [
    "from langchain.agents import initialize_agent\n",
    "\n",
    "# Initialize the autonomous agent\n",
    "agent = initialize_agent(\n",
    "    tools=tools,\n",
    "    llm=llm,\n",
    "    agent=\"zero-shot-react-description\",\n",
    "    verbose=True,\n",
    ")"
   ]
  },
  {
   "cell_type": "code",
   "execution_count": null,
   "metadata": {},
   "outputs": [],
   "source": [
    "# High-level prompt for the agent\n",
    "prompt = \"Find the latest episode from the channel with channel ID UCwzCMiicL-hBUzyjWiJaseg and provide a transcript.\"\n",
    "\n",
    "# Run the autonomous agent\n",
    "result = agent.run(prompt)"
   ]
  },
  {
   "cell_type": "code",
   "execution_count": null,
   "metadata": {},
   "outputs": [],
   "source": [
    "# Debugging transcript fetching\n",
    "# from youtube_transcript_api import YouTubeTranscriptApi\n",
    "\n",
    "# video_id = \"nwXSS0wBsFA\"\n",
    "# transcript_list = YouTubeTranscriptApi.list_transcripts(video_id)\n",
    "# transcript = transcript_list.find_transcript([\"en\"]).fetch()\n",
    "# print(transcript)"
   ]
  }
 ],
 "metadata": {
  "kernelspec": {
   "display_name": ".venv",
   "language": "python",
   "name": "python3"
  },
  "language_info": {
   "codemirror_mode": {
    "name": "ipython",
    "version": 3
   },
   "file_extension": ".py",
   "mimetype": "text/x-python",
   "name": "python",
   "nbconvert_exporter": "python",
   "pygments_lexer": "ipython3",
   "version": "3.11.8"
  }
 },
 "nbformat": 4,
 "nbformat_minor": 2
}
